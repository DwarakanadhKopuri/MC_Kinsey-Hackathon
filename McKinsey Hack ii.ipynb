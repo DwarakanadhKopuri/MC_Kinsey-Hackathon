{
 "cells": [
  {
   "cell_type": "markdown",
   "metadata": {},
   "source": [
    "## Loading required liraries"
   ]
  },
  {
   "cell_type": "code",
   "execution_count": 1,
   "metadata": {
    "collapsed": true
   },
   "outputs": [],
   "source": [
    "import pandas as pd\n",
    "import numpy as np\n",
    "\n",
    "import seaborn as sns\n",
    "import matplotlib.pyplot as plt\n",
    "\n",
    "from sklearn import preprocessing\n",
    "\n",
    "import xgboost as xgb\n",
    "\n",
    "%matplotlib inline"
   ]
  },
  {
   "cell_type": "markdown",
   "metadata": {},
   "source": [
    "## Reading train and test files "
   ]
  },
  {
   "cell_type": "code",
   "execution_count": 2,
   "metadata": {
    "collapsed": true
   },
   "outputs": [],
   "source": [
    "train = pd.read_csv(\"train.csv\")\n",
    "test = pd.read_csv(\"test.csv\")"
   ]
  },
  {
   "cell_type": "code",
   "execution_count": 3,
   "metadata": {},
   "outputs": [
    {
     "data": {
      "text/html": [
       "<div>\n",
       "<style>\n",
       "    .dataframe thead tr:only-child th {\n",
       "        text-align: right;\n",
       "    }\n",
       "\n",
       "    .dataframe thead th {\n",
       "        text-align: left;\n",
       "    }\n",
       "\n",
       "    .dataframe tbody tr th {\n",
       "        vertical-align: top;\n",
       "    }\n",
       "</style>\n",
       "<table border=\"1\" class=\"dataframe\">\n",
       "  <thead>\n",
       "    <tr style=\"text-align: right;\">\n",
       "      <th></th>\n",
       "      <th>ID</th>\n",
       "      <th>Gender</th>\n",
       "      <th>DOB</th>\n",
       "      <th>Lead_Creation_Date</th>\n",
       "      <th>City_Code</th>\n",
       "      <th>City_Category</th>\n",
       "      <th>Employer_Code</th>\n",
       "      <th>Employer_Category1</th>\n",
       "      <th>Employer_Category2</th>\n",
       "      <th>Monthly_Income</th>\n",
       "      <th>...</th>\n",
       "      <th>Contacted</th>\n",
       "      <th>Source</th>\n",
       "      <th>Source_Category</th>\n",
       "      <th>Existing_EMI</th>\n",
       "      <th>Loan_Amount</th>\n",
       "      <th>Loan_Period</th>\n",
       "      <th>Interest_Rate</th>\n",
       "      <th>EMI</th>\n",
       "      <th>Var1</th>\n",
       "      <th>Approved</th>\n",
       "    </tr>\n",
       "  </thead>\n",
       "  <tbody>\n",
       "    <tr>\n",
       "      <th>0</th>\n",
       "      <td>APPC90493171225</td>\n",
       "      <td>Female</td>\n",
       "      <td>23/07/79</td>\n",
       "      <td>15/07/16</td>\n",
       "      <td>C10001</td>\n",
       "      <td>A</td>\n",
       "      <td>COM0044082</td>\n",
       "      <td>A</td>\n",
       "      <td>4.0</td>\n",
       "      <td>2000.0</td>\n",
       "      <td>...</td>\n",
       "      <td>N</td>\n",
       "      <td>S122</td>\n",
       "      <td>G</td>\n",
       "      <td>0.0</td>\n",
       "      <td>NaN</td>\n",
       "      <td>NaN</td>\n",
       "      <td>NaN</td>\n",
       "      <td>NaN</td>\n",
       "      <td>0</td>\n",
       "      <td>0</td>\n",
       "    </tr>\n",
       "    <tr>\n",
       "      <th>1</th>\n",
       "      <td>APPD40611263344</td>\n",
       "      <td>Male</td>\n",
       "      <td>07/12/86</td>\n",
       "      <td>04/07/16</td>\n",
       "      <td>C10003</td>\n",
       "      <td>A</td>\n",
       "      <td>COM0000002</td>\n",
       "      <td>C</td>\n",
       "      <td>1.0</td>\n",
       "      <td>3500.0</td>\n",
       "      <td>...</td>\n",
       "      <td>Y</td>\n",
       "      <td>S122</td>\n",
       "      <td>G</td>\n",
       "      <td>0.0</td>\n",
       "      <td>20000.0</td>\n",
       "      <td>2.0</td>\n",
       "      <td>13.25</td>\n",
       "      <td>953.0</td>\n",
       "      <td>10</td>\n",
       "      <td>0</td>\n",
       "    </tr>\n",
       "    <tr>\n",
       "      <th>2</th>\n",
       "      <td>APPE70289249423</td>\n",
       "      <td>Male</td>\n",
       "      <td>10/12/82</td>\n",
       "      <td>19/07/16</td>\n",
       "      <td>C10125</td>\n",
       "      <td>C</td>\n",
       "      <td>COM0005267</td>\n",
       "      <td>C</td>\n",
       "      <td>4.0</td>\n",
       "      <td>2250.0</td>\n",
       "      <td>...</td>\n",
       "      <td>Y</td>\n",
       "      <td>S143</td>\n",
       "      <td>B</td>\n",
       "      <td>0.0</td>\n",
       "      <td>45000.0</td>\n",
       "      <td>4.0</td>\n",
       "      <td>NaN</td>\n",
       "      <td>NaN</td>\n",
       "      <td>0</td>\n",
       "      <td>0</td>\n",
       "    </tr>\n",
       "    <tr>\n",
       "      <th>3</th>\n",
       "      <td>APPF80273865537</td>\n",
       "      <td>Male</td>\n",
       "      <td>30/01/89</td>\n",
       "      <td>09/07/16</td>\n",
       "      <td>C10477</td>\n",
       "      <td>C</td>\n",
       "      <td>COM0004143</td>\n",
       "      <td>A</td>\n",
       "      <td>4.0</td>\n",
       "      <td>3500.0</td>\n",
       "      <td>...</td>\n",
       "      <td>Y</td>\n",
       "      <td>S143</td>\n",
       "      <td>B</td>\n",
       "      <td>0.0</td>\n",
       "      <td>92000.0</td>\n",
       "      <td>5.0</td>\n",
       "      <td>NaN</td>\n",
       "      <td>NaN</td>\n",
       "      <td>7</td>\n",
       "      <td>0</td>\n",
       "    </tr>\n",
       "    <tr>\n",
       "      <th>4</th>\n",
       "      <td>APPG60994436641</td>\n",
       "      <td>Male</td>\n",
       "      <td>19/04/85</td>\n",
       "      <td>20/07/16</td>\n",
       "      <td>C10002</td>\n",
       "      <td>A</td>\n",
       "      <td>COM0001781</td>\n",
       "      <td>A</td>\n",
       "      <td>4.0</td>\n",
       "      <td>10000.0</td>\n",
       "      <td>...</td>\n",
       "      <td>Y</td>\n",
       "      <td>S134</td>\n",
       "      <td>B</td>\n",
       "      <td>2500.0</td>\n",
       "      <td>50000.0</td>\n",
       "      <td>2.0</td>\n",
       "      <td>NaN</td>\n",
       "      <td>NaN</td>\n",
       "      <td>10</td>\n",
       "      <td>0</td>\n",
       "    </tr>\n",
       "  </tbody>\n",
       "</table>\n",
       "<p>5 rows × 22 columns</p>\n",
       "</div>"
      ],
      "text/plain": [
       "                ID  Gender       DOB Lead_Creation_Date City_Code  \\\n",
       "0  APPC90493171225  Female  23/07/79           15/07/16    C10001   \n",
       "1  APPD40611263344    Male  07/12/86           04/07/16    C10003   \n",
       "2  APPE70289249423    Male  10/12/82           19/07/16    C10125   \n",
       "3  APPF80273865537    Male  30/01/89           09/07/16    C10477   \n",
       "4  APPG60994436641    Male  19/04/85           20/07/16    C10002   \n",
       "\n",
       "  City_Category Employer_Code Employer_Category1  Employer_Category2  \\\n",
       "0             A    COM0044082                  A                 4.0   \n",
       "1             A    COM0000002                  C                 1.0   \n",
       "2             C    COM0005267                  C                 4.0   \n",
       "3             C    COM0004143                  A                 4.0   \n",
       "4             A    COM0001781                  A                 4.0   \n",
       "\n",
       "   Monthly_Income    ...    Contacted Source Source_Category Existing_EMI  \\\n",
       "0          2000.0    ...            N   S122               G          0.0   \n",
       "1          3500.0    ...            Y   S122               G          0.0   \n",
       "2          2250.0    ...            Y   S143               B          0.0   \n",
       "3          3500.0    ...            Y   S143               B          0.0   \n",
       "4         10000.0    ...            Y   S134               B       2500.0   \n",
       "\n",
       "  Loan_Amount  Loan_Period  Interest_Rate    EMI  Var1  Approved  \n",
       "0         NaN          NaN            NaN    NaN     0         0  \n",
       "1     20000.0          2.0          13.25  953.0    10         0  \n",
       "2     45000.0          4.0            NaN    NaN     0         0  \n",
       "3     92000.0          5.0            NaN    NaN     7         0  \n",
       "4     50000.0          2.0            NaN    NaN    10         0  \n",
       "\n",
       "[5 rows x 22 columns]"
      ]
     },
     "execution_count": 3,
     "metadata": {},
     "output_type": "execute_result"
    }
   ],
   "source": [
    "train.head()"
   ]
  },
  {
   "cell_type": "code",
   "execution_count": 4,
   "metadata": {},
   "outputs": [
    {
     "data": {
      "text/html": [
       "<div>\n",
       "<style>\n",
       "    .dataframe thead tr:only-child th {\n",
       "        text-align: right;\n",
       "    }\n",
       "\n",
       "    .dataframe thead th {\n",
       "        text-align: left;\n",
       "    }\n",
       "\n",
       "    .dataframe tbody tr th {\n",
       "        vertical-align: top;\n",
       "    }\n",
       "</style>\n",
       "<table border=\"1\" class=\"dataframe\">\n",
       "  <thead>\n",
       "    <tr style=\"text-align: right;\">\n",
       "      <th></th>\n",
       "      <th>ID</th>\n",
       "      <th>Gender</th>\n",
       "      <th>DOB</th>\n",
       "      <th>Lead_Creation_Date</th>\n",
       "      <th>City_Code</th>\n",
       "      <th>City_Category</th>\n",
       "      <th>Employer_Code</th>\n",
       "      <th>Employer_Category1</th>\n",
       "      <th>Employer_Category2</th>\n",
       "      <th>Monthly_Income</th>\n",
       "      <th>...</th>\n",
       "      <th>Primary_Bank_Type</th>\n",
       "      <th>Contacted</th>\n",
       "      <th>Source</th>\n",
       "      <th>Source_Category</th>\n",
       "      <th>Existing_EMI</th>\n",
       "      <th>Loan_Amount</th>\n",
       "      <th>Loan_Period</th>\n",
       "      <th>Interest_Rate</th>\n",
       "      <th>EMI</th>\n",
       "      <th>Var1</th>\n",
       "    </tr>\n",
       "  </thead>\n",
       "  <tbody>\n",
       "    <tr>\n",
       "      <th>0</th>\n",
       "      <td>APPA70109647212</td>\n",
       "      <td>Male</td>\n",
       "      <td>03/06/88</td>\n",
       "      <td>05/07/16</td>\n",
       "      <td>C10028</td>\n",
       "      <td>C</td>\n",
       "      <td>COM0002222</td>\n",
       "      <td>A</td>\n",
       "      <td>4.0</td>\n",
       "      <td>2150.0</td>\n",
       "      <td>...</td>\n",
       "      <td>P</td>\n",
       "      <td>Y</td>\n",
       "      <td>S122</td>\n",
       "      <td>B</td>\n",
       "      <td>0.0</td>\n",
       "      <td>10000.0</td>\n",
       "      <td>3.0</td>\n",
       "      <td>20.0</td>\n",
       "      <td>372.0</td>\n",
       "      <td>4</td>\n",
       "    </tr>\n",
       "    <tr>\n",
       "      <th>1</th>\n",
       "      <td>APPB10687939341</td>\n",
       "      <td>Male</td>\n",
       "      <td>13/07/81</td>\n",
       "      <td>01/07/16</td>\n",
       "      <td>C10003</td>\n",
       "      <td>A</td>\n",
       "      <td>COM0001784</td>\n",
       "      <td>C</td>\n",
       "      <td>4.0</td>\n",
       "      <td>4200.0</td>\n",
       "      <td>...</td>\n",
       "      <td>P</td>\n",
       "      <td>Y</td>\n",
       "      <td>S133</td>\n",
       "      <td>C</td>\n",
       "      <td>0.0</td>\n",
       "      <td>69000.0</td>\n",
       "      <td>5.0</td>\n",
       "      <td>24.0</td>\n",
       "      <td>1985.0</td>\n",
       "      <td>7</td>\n",
       "    </tr>\n",
       "    <tr>\n",
       "      <th>2</th>\n",
       "      <td>APPC80449411414</td>\n",
       "      <td>Female</td>\n",
       "      <td>19/11/90</td>\n",
       "      <td>01/07/16</td>\n",
       "      <td>C10009</td>\n",
       "      <td>B</td>\n",
       "      <td>COM0045260</td>\n",
       "      <td>B</td>\n",
       "      <td>4.0</td>\n",
       "      <td>1000.0</td>\n",
       "      <td>...</td>\n",
       "      <td>P</td>\n",
       "      <td>N</td>\n",
       "      <td>S133</td>\n",
       "      <td>B</td>\n",
       "      <td>0.0</td>\n",
       "      <td>NaN</td>\n",
       "      <td>NaN</td>\n",
       "      <td>NaN</td>\n",
       "      <td>NaN</td>\n",
       "      <td>0</td>\n",
       "    </tr>\n",
       "    <tr>\n",
       "      <th>3</th>\n",
       "      <td>APPD30665094501</td>\n",
       "      <td>Female</td>\n",
       "      <td>15/10/92</td>\n",
       "      <td>01/07/16</td>\n",
       "      <td>C10005</td>\n",
       "      <td>A</td>\n",
       "      <td>COM0000085</td>\n",
       "      <td>A</td>\n",
       "      <td>3.0</td>\n",
       "      <td>1465.0</td>\n",
       "      <td>...</td>\n",
       "      <td>P</td>\n",
       "      <td>N</td>\n",
       "      <td>S133</td>\n",
       "      <td>C</td>\n",
       "      <td>0.0</td>\n",
       "      <td>NaN</td>\n",
       "      <td>NaN</td>\n",
       "      <td>NaN</td>\n",
       "      <td>NaN</td>\n",
       "      <td>0</td>\n",
       "    </tr>\n",
       "    <tr>\n",
       "      <th>4</th>\n",
       "      <td>APPE80379821637</td>\n",
       "      <td>Male</td>\n",
       "      <td>21/09/88</td>\n",
       "      <td>01/07/16</td>\n",
       "      <td>C10005</td>\n",
       "      <td>A</td>\n",
       "      <td>COM0006422</td>\n",
       "      <td>A</td>\n",
       "      <td>4.0</td>\n",
       "      <td>2340.0</td>\n",
       "      <td>...</td>\n",
       "      <td>P</td>\n",
       "      <td>Y</td>\n",
       "      <td>S143</td>\n",
       "      <td>B</td>\n",
       "      <td>500.0</td>\n",
       "      <td>10000.0</td>\n",
       "      <td>2.0</td>\n",
       "      <td>NaN</td>\n",
       "      <td>NaN</td>\n",
       "      <td>0</td>\n",
       "    </tr>\n",
       "  </tbody>\n",
       "</table>\n",
       "<p>5 rows × 21 columns</p>\n",
       "</div>"
      ],
      "text/plain": [
       "                ID  Gender       DOB Lead_Creation_Date City_Code  \\\n",
       "0  APPA70109647212    Male  03/06/88           05/07/16    C10028   \n",
       "1  APPB10687939341    Male  13/07/81           01/07/16    C10003   \n",
       "2  APPC80449411414  Female  19/11/90           01/07/16    C10009   \n",
       "3  APPD30665094501  Female  15/10/92           01/07/16    C10005   \n",
       "4  APPE80379821637    Male  21/09/88           01/07/16    C10005   \n",
       "\n",
       "  City_Category Employer_Code Employer_Category1  Employer_Category2  \\\n",
       "0             C    COM0002222                  A                 4.0   \n",
       "1             A    COM0001784                  C                 4.0   \n",
       "2             B    COM0045260                  B                 4.0   \n",
       "3             A    COM0000085                  A                 3.0   \n",
       "4             A    COM0006422                  A                 4.0   \n",
       "\n",
       "   Monthly_Income  ...  Primary_Bank_Type Contacted Source Source_Category  \\\n",
       "0          2150.0  ...                  P         Y   S122               B   \n",
       "1          4200.0  ...                  P         Y   S133               C   \n",
       "2          1000.0  ...                  P         N   S133               B   \n",
       "3          1465.0  ...                  P         N   S133               C   \n",
       "4          2340.0  ...                  P         Y   S143               B   \n",
       "\n",
       "  Existing_EMI  Loan_Amount  Loan_Period  Interest_Rate     EMI  Var1  \n",
       "0          0.0      10000.0          3.0           20.0   372.0     4  \n",
       "1          0.0      69000.0          5.0           24.0  1985.0     7  \n",
       "2          0.0          NaN          NaN            NaN     NaN     0  \n",
       "3          0.0          NaN          NaN            NaN     NaN     0  \n",
       "4        500.0      10000.0          2.0            NaN     NaN     0  \n",
       "\n",
       "[5 rows x 21 columns]"
      ]
     },
     "execution_count": 4,
     "metadata": {},
     "output_type": "execute_result"
    }
   ],
   "source": [
    "test.head()"
   ]
  },
  {
   "cell_type": "markdown",
   "metadata": {},
   "source": [
    "## Basic Stats"
   ]
  },
  {
   "cell_type": "code",
   "execution_count": 5,
   "metadata": {},
   "outputs": [
    {
     "data": {
      "text/plain": [
       "0    68693\n",
       "1     1020\n",
       "Name: Approved, dtype: int64"
      ]
     },
     "execution_count": 5,
     "metadata": {},
     "output_type": "execute_result"
    }
   ],
   "source": [
    "train.Approved.value_counts()"
   ]
  },
  {
   "cell_type": "code",
   "execution_count": 6,
   "metadata": {},
   "outputs": [
    {
     "data": {
      "text/html": [
       "<div>\n",
       "<style>\n",
       "    .dataframe thead tr:only-child th {\n",
       "        text-align: right;\n",
       "    }\n",
       "\n",
       "    .dataframe thead th {\n",
       "        text-align: left;\n",
       "    }\n",
       "\n",
       "    .dataframe tbody tr th {\n",
       "        vertical-align: top;\n",
       "    }\n",
       "</style>\n",
       "<table border=\"1\" class=\"dataframe\">\n",
       "  <thead>\n",
       "    <tr style=\"text-align: right;\">\n",
       "      <th></th>\n",
       "      <th>Employer_Category2</th>\n",
       "      <th>Monthly_Income</th>\n",
       "      <th>Existing_EMI</th>\n",
       "      <th>Loan_Amount</th>\n",
       "      <th>Loan_Period</th>\n",
       "      <th>Interest_Rate</th>\n",
       "      <th>EMI</th>\n",
       "      <th>Var1</th>\n",
       "      <th>Approved</th>\n",
       "    </tr>\n",
       "  </thead>\n",
       "  <tbody>\n",
       "    <tr>\n",
       "      <th>count</th>\n",
       "      <td>65415.000000</td>\n",
       "      <td>6.971300e+04</td>\n",
       "      <td>69662.000000</td>\n",
       "      <td>42004.000000</td>\n",
       "      <td>42004.000000</td>\n",
       "      <td>22276.000000</td>\n",
       "      <td>22276.000000</td>\n",
       "      <td>69713.000000</td>\n",
       "      <td>69713.000000</td>\n",
       "    </tr>\n",
       "    <tr>\n",
       "      <th>mean</th>\n",
       "      <td>3.720187</td>\n",
       "      <td>5.622283e+03</td>\n",
       "      <td>360.928751</td>\n",
       "      <td>39429.982859</td>\n",
       "      <td>3.890629</td>\n",
       "      <td>19.213570</td>\n",
       "      <td>1101.466242</td>\n",
       "      <td>3.948446</td>\n",
       "      <td>0.014631</td>\n",
       "    </tr>\n",
       "    <tr>\n",
       "      <th>std</th>\n",
       "      <td>0.807374</td>\n",
       "      <td>1.747671e+05</td>\n",
       "      <td>2288.517927</td>\n",
       "      <td>30727.595990</td>\n",
       "      <td>1.167491</td>\n",
       "      <td>5.847136</td>\n",
       "      <td>752.661394</td>\n",
       "      <td>3.819214</td>\n",
       "      <td>0.120073</td>\n",
       "    </tr>\n",
       "    <tr>\n",
       "      <th>min</th>\n",
       "      <td>1.000000</td>\n",
       "      <td>0.000000e+00</td>\n",
       "      <td>0.000000</td>\n",
       "      <td>5000.000000</td>\n",
       "      <td>1.000000</td>\n",
       "      <td>11.990000</td>\n",
       "      <td>118.000000</td>\n",
       "      <td>0.000000</td>\n",
       "      <td>0.000000</td>\n",
       "    </tr>\n",
       "    <tr>\n",
       "      <th>25%</th>\n",
       "      <td>4.000000</td>\n",
       "      <td>1.650000e+03</td>\n",
       "      <td>0.000000</td>\n",
       "      <td>20000.000000</td>\n",
       "      <td>3.000000</td>\n",
       "      <td>15.250000</td>\n",
       "      <td>649.000000</td>\n",
       "      <td>0.000000</td>\n",
       "      <td>0.000000</td>\n",
       "    </tr>\n",
       "    <tr>\n",
       "      <th>50%</th>\n",
       "      <td>4.000000</td>\n",
       "      <td>2.500000e+03</td>\n",
       "      <td>0.000000</td>\n",
       "      <td>30000.000000</td>\n",
       "      <td>4.000000</td>\n",
       "      <td>18.000000</td>\n",
       "      <td>941.000000</td>\n",
       "      <td>2.000000</td>\n",
       "      <td>0.000000</td>\n",
       "    </tr>\n",
       "    <tr>\n",
       "      <th>75%</th>\n",
       "      <td>4.000000</td>\n",
       "      <td>4.000000e+03</td>\n",
       "      <td>350.000000</td>\n",
       "      <td>50000.000000</td>\n",
       "      <td>5.000000</td>\n",
       "      <td>20.000000</td>\n",
       "      <td>1295.000000</td>\n",
       "      <td>7.000000</td>\n",
       "      <td>0.000000</td>\n",
       "    </tr>\n",
       "    <tr>\n",
       "      <th>max</th>\n",
       "      <td>4.000000</td>\n",
       "      <td>3.838384e+07</td>\n",
       "      <td>545436.500000</td>\n",
       "      <td>300000.000000</td>\n",
       "      <td>6.000000</td>\n",
       "      <td>37.000000</td>\n",
       "      <td>13556.000000</td>\n",
       "      <td>10.000000</td>\n",
       "      <td>1.000000</td>\n",
       "    </tr>\n",
       "  </tbody>\n",
       "</table>\n",
       "</div>"
      ],
      "text/plain": [
       "       Employer_Category2  Monthly_Income   Existing_EMI    Loan_Amount  \\\n",
       "count        65415.000000    6.971300e+04   69662.000000   42004.000000   \n",
       "mean             3.720187    5.622283e+03     360.928751   39429.982859   \n",
       "std              0.807374    1.747671e+05    2288.517927   30727.595990   \n",
       "min              1.000000    0.000000e+00       0.000000    5000.000000   \n",
       "25%              4.000000    1.650000e+03       0.000000   20000.000000   \n",
       "50%              4.000000    2.500000e+03       0.000000   30000.000000   \n",
       "75%              4.000000    4.000000e+03     350.000000   50000.000000   \n",
       "max              4.000000    3.838384e+07  545436.500000  300000.000000   \n",
       "\n",
       "        Loan_Period  Interest_Rate           EMI          Var1      Approved  \n",
       "count  42004.000000   22276.000000  22276.000000  69713.000000  69713.000000  \n",
       "mean       3.890629      19.213570   1101.466242      3.948446      0.014631  \n",
       "std        1.167491       5.847136    752.661394      3.819214      0.120073  \n",
       "min        1.000000      11.990000    118.000000      0.000000      0.000000  \n",
       "25%        3.000000      15.250000    649.000000      0.000000      0.000000  \n",
       "50%        4.000000      18.000000    941.000000      2.000000      0.000000  \n",
       "75%        5.000000      20.000000   1295.000000      7.000000      0.000000  \n",
       "max        6.000000      37.000000  13556.000000     10.000000      1.000000  "
      ]
     },
     "execution_count": 6,
     "metadata": {},
     "output_type": "execute_result"
    }
   ],
   "source": [
    "train.describe()"
   ]
  },
  {
   "cell_type": "code",
   "execution_count": 7,
   "metadata": {
    "collapsed": true
   },
   "outputs": [],
   "source": [
    "y_train = train.Approved\n",
    "train.drop('Approved', axis = 1, inplace = True)\n"
   ]
  },
  {
   "cell_type": "code",
   "execution_count": 8,
   "metadata": {
    "collapsed": true
   },
   "outputs": [],
   "source": [
    "ntrain = train.shape[0]\n",
    "\n",
    "\n",
    "data = pd.concat([train,test])"
   ]
  },
  {
   "cell_type": "code",
   "execution_count": 9,
   "metadata": {
    "collapsed": true
   },
   "outputs": [],
   "source": [
    "data['DOB'] = pd.to_datetime(data['DOB'])\n",
    "data['Lead_Creation_Date'] = pd.to_datetime(data['Lead_Creation_Date'])"
   ]
  },
  {
   "cell_type": "code",
   "execution_count": 10,
   "metadata": {},
   "outputs": [
    {
     "data": {
      "text/plain": [
       "count                   99732\n",
       "unique                  11672\n",
       "top       1982-11-01 00:00:00\n",
       "freq                      345\n",
       "first     1968-01-04 00:00:00\n",
       "last      2067-12-31 00:00:00\n",
       "Name: DOB, dtype: object"
      ]
     },
     "execution_count": 10,
     "metadata": {},
     "output_type": "execute_result"
    }
   ],
   "source": [
    "data['DOB'].describe()"
   ]
  },
  {
   "cell_type": "code",
   "execution_count": 11,
   "metadata": {},
   "outputs": [
    {
     "data": {
      "text/plain": [
       "count                   99750\n",
       "unique                     92\n",
       "top       2016-02-09 00:00:00\n",
       "freq                     2614\n",
       "first     2016-01-07 00:00:00\n",
       "last      2016-12-09 00:00:00\n",
       "Name: Lead_Creation_Date, dtype: object"
      ]
     },
     "execution_count": 11,
     "metadata": {},
     "output_type": "execute_result"
    }
   ],
   "source": [
    "data['Lead_Creation_Date'].describe()"
   ]
  },
  {
   "cell_type": "code",
   "execution_count": 12,
   "metadata": {
    "scrolled": false
   },
   "outputs": [
    {
     "data": {
      "text/plain": [
       "count                   69713\n",
       "unique                     92\n",
       "top       2016-02-09 00:00:00\n",
       "freq                     1838\n",
       "first     2016-01-07 00:00:00\n",
       "last      2016-12-09 00:00:00\n",
       "Name: Lead_Creation_Date, dtype: object"
      ]
     },
     "execution_count": 12,
     "metadata": {},
     "output_type": "execute_result"
    }
   ],
   "source": [
    "data[:ntrain].Lead_Creation_Date.describe()\n"
   ]
  },
  {
   "cell_type": "code",
   "execution_count": 13,
   "metadata": {},
   "outputs": [
    {
     "data": {
      "text/plain": [
       "count                   30037\n",
       "unique                     92\n",
       "top       2016-02-09 00:00:00\n",
       "freq                      776\n",
       "first     2016-01-07 00:00:00\n",
       "last      2016-12-09 00:00:00\n",
       "Name: Lead_Creation_Date, dtype: object"
      ]
     },
     "execution_count": 13,
     "metadata": {},
     "output_type": "execute_result"
    }
   ],
   "source": [
    "data[ntrain:].Lead_Creation_Date.describe()\n"
   ]
  },
  {
   "cell_type": "markdown",
   "metadata": {},
   "source": [
    "## Feature Engg."
   ]
  },
  {
   "cell_type": "code",
   "execution_count": 14,
   "metadata": {
    "collapsed": true
   },
   "outputs": [],
   "source": [
    "#data['sum_null'] = data.isnull().sum(axis = 1)\n",
    "#data['DOB'] = pd.to_datetime(data['DOB'])\n",
    "#data['Lead_Creation_Date'] = pd.to_datetime(data['Lead_Creation_Date'])\n",
    "\n",
    "#data['age'] = data.apply(lambda r: (r['Lead_Creation_Date'] - r['DOB']).days, axis=1)\n",
    "\n",
    "#data['Lead_Creation_dow'] = data['Lead_Creation_Date'].dt.dayofweek\n",
    "#data['Lead_Creation_dom'] = data['Lead_Creation_Date'].dt.day\n",
    "#data['Lead_Creation_year'] = data['Lead_Creation_Date'].dt.year\n",
    "#data['Lead_Creation_month'] = data['Lead_Creation_Date'].dt.month\n",
    "#data['date_int'] = data['Lead_Creation_Date'].apply(lambda x: x.strftime('%Y%m%d')).astype(int)\n",
    "\n",
    "#<10 yrs, really??\n",
    "#data.loc[data['age']<3650, 'age'] = data['age'].mean() \n",
    "\n",
    "#data['loan_to_income'] = data['Loan_Amount']/data['Monthly_Income']\n"
   ]
  },
  {
   "cell_type": "code",
   "execution_count": 15,
   "metadata": {},
   "outputs": [
    {
     "data": {
      "text/plain": [
       "Index(['ID', 'Gender', 'City_Code', 'City_Category', 'Employer_Code',\n",
       "       'Employer_Category1', 'Customer_Existing_Primary_Bank_Code',\n",
       "       'Primary_Bank_Type', 'Contacted', 'Source', 'Source_Category'],\n",
       "      dtype='object')"
      ]
     },
     "execution_count": 15,
     "metadata": {},
     "output_type": "execute_result"
    }
   ],
   "source": [
    "cols_obj = data.select_dtypes(['object']).columns\n",
    "cols_obj"
   ]
  },
  {
   "cell_type": "code",
   "execution_count": 16,
   "metadata": {
    "collapsed": true
   },
   "outputs": [],
   "source": [
    "#cols_obj = data.select_dtypes(['object']).columns\n",
    "\n",
    "cols_obj = ['Gender', 'City_Code',\n",
    "            'City_Category', 'Employer_Code', 'Employer_Category1',\n",
    "            'Customer_Existing_Primary_Bank_Code', 'Primary_Bank_Type', 'Contacted',\n",
    "            'Source', 'Source_Category'\n",
    "           ]\n",
    "\n",
    "for i in cols_obj:\n",
    "    if len(set(data[i])) > 40:\n",
    "        \n",
    "        #top_cats = data[i].value_counts() > data[i].value_counts().quantile(0.95)\n",
    "        top_cats = data[i].value_counts().head(40)\n",
    "        data[i+str('_top_perc')] = data[i]\n",
    "        data.loc[~data[i].isin(list(top_cats.index)) &\n",
    "                      ~data[i].isnull(), i+str('_top_perc')] = 'Others'\n",
    "        \n",
    "        data.drop(i, axis = 1, inplace = True)\n",
    "        \n",
    "        i = i+str('_top_perc')\n",
    "            \n",
    "    oh = pd.get_dummies(data[i], prefix=i+ str('_'))\n",
    "\n",
    "    data.drop(i, axis=1, inplace=True)\n",
    "\n",
    "    data = pd.concat([data, oh], axis = 1)\n",
    "\n"
   ]
  },
  {
   "cell_type": "code",
   "execution_count": 17,
   "metadata": {},
   "outputs": [
    {
     "name": "stdout",
     "output_type": "stream",
     "text": [
      "(69713, 21)\n",
      "(30037, 21)\n",
      "(69713, 186)\n",
      "(30037, 186)\n"
     ]
    }
   ],
   "source": [
    "print(train.shape)\n",
    "print(test.shape)\n",
    "\n",
    "train = data[:ntrain]\n",
    "test = data[ntrain:]\n",
    "\n",
    "print(train.shape)\n",
    "print(test.shape)\n"
   ]
  },
  {
   "cell_type": "code",
   "execution_count": 18,
   "metadata": {},
   "outputs": [
    {
     "data": {
      "text/plain": [
       "ID                                    object\n",
       "DOB                           datetime64[ns]\n",
       "Lead_Creation_Date            datetime64[ns]\n",
       "Employer_Category2                   float64\n",
       "Monthly_Income                       float64\n",
       "Existing_EMI                         float64\n",
       "Loan_Amount                          float64\n",
       "Loan_Period                          float64\n",
       "Interest_Rate                        float64\n",
       "EMI                                  float64\n",
       "Var1                                   int64\n",
       "Gender__Female                         uint8\n",
       "Gender__Male                           uint8\n",
       "City_Code_top_perc__C10001             uint8\n",
       "City_Code_top_perc__C10002             uint8\n",
       "City_Code_top_perc__C10003             uint8\n",
       "City_Code_top_perc__C10004             uint8\n",
       "City_Code_top_perc__C10005             uint8\n",
       "City_Code_top_perc__C10006             uint8\n",
       "City_Code_top_perc__C10007             uint8\n",
       "City_Code_top_perc__C10008             uint8\n",
       "City_Code_top_perc__C10009             uint8\n",
       "City_Code_top_perc__C10010             uint8\n",
       "City_Code_top_perc__C10011             uint8\n",
       "City_Code_top_perc__C10012             uint8\n",
       "City_Code_top_perc__C10013             uint8\n",
       "City_Code_top_perc__C10014             uint8\n",
       "City_Code_top_perc__C10015             uint8\n",
       "City_Code_top_perc__C10016             uint8\n",
       "City_Code_top_perc__C10017             uint8\n",
       "                                   ...      \n",
       "Source__S134                           uint8\n",
       "Source__S135                           uint8\n",
       "Source__S136                           uint8\n",
       "Source__S137                           uint8\n",
       "Source__S138                           uint8\n",
       "Source__S139                           uint8\n",
       "Source__S140                           uint8\n",
       "Source__S141                           uint8\n",
       "Source__S142                           uint8\n",
       "Source__S143                           uint8\n",
       "Source__S144                           uint8\n",
       "Source__S150                           uint8\n",
       "Source__S151                           uint8\n",
       "Source__S153                           uint8\n",
       "Source__S154                           uint8\n",
       "Source__S155                           uint8\n",
       "Source__S156                           uint8\n",
       "Source__S157                           uint8\n",
       "Source__S158                           uint8\n",
       "Source__S159                           uint8\n",
       "Source__S160                           uint8\n",
       "Source__S161                           uint8\n",
       "Source__S162                           uint8\n",
       "Source_Category__A                     uint8\n",
       "Source_Category__B                     uint8\n",
       "Source_Category__C                     uint8\n",
       "Source_Category__D                     uint8\n",
       "Source_Category__E                     uint8\n",
       "Source_Category__F                     uint8\n",
       "Source_Category__G                     uint8\n",
       "Length: 186, dtype: object"
      ]
     },
     "execution_count": 18,
     "metadata": {},
     "output_type": "execute_result"
    }
   ],
   "source": [
    "train.dtypes"
   ]
  },
  {
   "cell_type": "code",
   "execution_count": 19,
   "metadata": {},
   "outputs": [
    {
     "name": "stderr",
     "output_type": "stream",
     "text": [
      "/usr/local/lib/python3.6/site-packages/ipykernel_launcher.py:1: SettingWithCopyWarning: \n",
      "A value is trying to be set on a copy of a slice from a DataFrame.\n",
      "Try using .loc[row_indexer,col_indexer] = value instead\n",
      "\n",
      "See the caveats in the documentation: http://pandas.pydata.org/pandas-docs/stable/indexing.html#indexing-view-versus-copy\n",
      "  \"\"\"Entry point for launching an IPython kernel.\n",
      "/usr/local/lib/python3.6/site-packages/ipykernel_launcher.py:2: SettingWithCopyWarning: \n",
      "A value is trying to be set on a copy of a slice from a DataFrame.\n",
      "Try using .loc[row_indexer,col_indexer] = value instead\n",
      "\n",
      "See the caveats in the documentation: http://pandas.pydata.org/pandas-docs/stable/indexing.html#indexing-view-versus-copy\n",
      "  \n"
     ]
    }
   ],
   "source": [
    "train['Monthly_Income'] = np.log1p(train['Monthly_Income'])\n",
    "train['Loan_Amount'] = np.log1p(train['Loan_Amount'])"
   ]
  },
  {
   "cell_type": "code",
   "execution_count": 20,
   "metadata": {},
   "outputs": [
    {
     "data": {
      "text/html": [
       "<div>\n",
       "<style>\n",
       "    .dataframe thead tr:only-child th {\n",
       "        text-align: right;\n",
       "    }\n",
       "\n",
       "    .dataframe thead th {\n",
       "        text-align: left;\n",
       "    }\n",
       "\n",
       "    .dataframe tbody tr th {\n",
       "        vertical-align: top;\n",
       "    }\n",
       "</style>\n",
       "<table border=\"1\" class=\"dataframe\">\n",
       "  <thead>\n",
       "    <tr style=\"text-align: right;\">\n",
       "      <th></th>\n",
       "      <th>ID</th>\n",
       "      <th>DOB</th>\n",
       "      <th>Lead_Creation_Date</th>\n",
       "      <th>Employer_Category2</th>\n",
       "      <th>Monthly_Income</th>\n",
       "      <th>Existing_EMI</th>\n",
       "      <th>Loan_Amount</th>\n",
       "      <th>Loan_Period</th>\n",
       "      <th>Interest_Rate</th>\n",
       "      <th>EMI</th>\n",
       "      <th>...</th>\n",
       "      <th>Source__S160</th>\n",
       "      <th>Source__S161</th>\n",
       "      <th>Source__S162</th>\n",
       "      <th>Source_Category__A</th>\n",
       "      <th>Source_Category__B</th>\n",
       "      <th>Source_Category__C</th>\n",
       "      <th>Source_Category__D</th>\n",
       "      <th>Source_Category__E</th>\n",
       "      <th>Source_Category__F</th>\n",
       "      <th>Source_Category__G</th>\n",
       "    </tr>\n",
       "  </thead>\n",
       "  <tbody>\n",
       "    <tr>\n",
       "      <th>0</th>\n",
       "      <td>APPC90493171225</td>\n",
       "      <td>1979-07-23</td>\n",
       "      <td>2016-07-15</td>\n",
       "      <td>4.0</td>\n",
       "      <td>7.601402</td>\n",
       "      <td>0.0</td>\n",
       "      <td>NaN</td>\n",
       "      <td>NaN</td>\n",
       "      <td>NaN</td>\n",
       "      <td>NaN</td>\n",
       "      <td>...</td>\n",
       "      <td>0</td>\n",
       "      <td>0</td>\n",
       "      <td>0</td>\n",
       "      <td>0</td>\n",
       "      <td>0</td>\n",
       "      <td>0</td>\n",
       "      <td>0</td>\n",
       "      <td>0</td>\n",
       "      <td>0</td>\n",
       "      <td>1</td>\n",
       "    </tr>\n",
       "    <tr>\n",
       "      <th>1</th>\n",
       "      <td>APPD40611263344</td>\n",
       "      <td>1986-07-12</td>\n",
       "      <td>2016-04-07</td>\n",
       "      <td>1.0</td>\n",
       "      <td>8.160804</td>\n",
       "      <td>0.0</td>\n",
       "      <td>9.903538</td>\n",
       "      <td>2.0</td>\n",
       "      <td>13.25</td>\n",
       "      <td>953.0</td>\n",
       "      <td>...</td>\n",
       "      <td>0</td>\n",
       "      <td>0</td>\n",
       "      <td>0</td>\n",
       "      <td>0</td>\n",
       "      <td>0</td>\n",
       "      <td>0</td>\n",
       "      <td>0</td>\n",
       "      <td>0</td>\n",
       "      <td>0</td>\n",
       "      <td>1</td>\n",
       "    </tr>\n",
       "    <tr>\n",
       "      <th>2</th>\n",
       "      <td>APPE70289249423</td>\n",
       "      <td>1982-10-12</td>\n",
       "      <td>2016-07-19</td>\n",
       "      <td>4.0</td>\n",
       "      <td>7.719130</td>\n",
       "      <td>0.0</td>\n",
       "      <td>10.714440</td>\n",
       "      <td>4.0</td>\n",
       "      <td>NaN</td>\n",
       "      <td>NaN</td>\n",
       "      <td>...</td>\n",
       "      <td>0</td>\n",
       "      <td>0</td>\n",
       "      <td>0</td>\n",
       "      <td>0</td>\n",
       "      <td>1</td>\n",
       "      <td>0</td>\n",
       "      <td>0</td>\n",
       "      <td>0</td>\n",
       "      <td>0</td>\n",
       "      <td>0</td>\n",
       "    </tr>\n",
       "    <tr>\n",
       "      <th>3</th>\n",
       "      <td>APPF80273865537</td>\n",
       "      <td>1989-01-30</td>\n",
       "      <td>2016-09-07</td>\n",
       "      <td>4.0</td>\n",
       "      <td>8.160804</td>\n",
       "      <td>0.0</td>\n",
       "      <td>11.429555</td>\n",
       "      <td>5.0</td>\n",
       "      <td>NaN</td>\n",
       "      <td>NaN</td>\n",
       "      <td>...</td>\n",
       "      <td>0</td>\n",
       "      <td>0</td>\n",
       "      <td>0</td>\n",
       "      <td>0</td>\n",
       "      <td>1</td>\n",
       "      <td>0</td>\n",
       "      <td>0</td>\n",
       "      <td>0</td>\n",
       "      <td>0</td>\n",
       "      <td>0</td>\n",
       "    </tr>\n",
       "    <tr>\n",
       "      <th>4</th>\n",
       "      <td>APPG60994436641</td>\n",
       "      <td>1985-04-19</td>\n",
       "      <td>2016-07-20</td>\n",
       "      <td>4.0</td>\n",
       "      <td>9.210440</td>\n",
       "      <td>2500.0</td>\n",
       "      <td>10.819798</td>\n",
       "      <td>2.0</td>\n",
       "      <td>NaN</td>\n",
       "      <td>NaN</td>\n",
       "      <td>...</td>\n",
       "      <td>0</td>\n",
       "      <td>0</td>\n",
       "      <td>0</td>\n",
       "      <td>0</td>\n",
       "      <td>1</td>\n",
       "      <td>0</td>\n",
       "      <td>0</td>\n",
       "      <td>0</td>\n",
       "      <td>0</td>\n",
       "      <td>0</td>\n",
       "    </tr>\n",
       "  </tbody>\n",
       "</table>\n",
       "<p>5 rows × 186 columns</p>\n",
       "</div>"
      ],
      "text/plain": [
       "                ID        DOB Lead_Creation_Date  Employer_Category2  \\\n",
       "0  APPC90493171225 1979-07-23         2016-07-15                 4.0   \n",
       "1  APPD40611263344 1986-07-12         2016-04-07                 1.0   \n",
       "2  APPE70289249423 1982-10-12         2016-07-19                 4.0   \n",
       "3  APPF80273865537 1989-01-30         2016-09-07                 4.0   \n",
       "4  APPG60994436641 1985-04-19         2016-07-20                 4.0   \n",
       "\n",
       "   Monthly_Income  Existing_EMI  Loan_Amount  Loan_Period  Interest_Rate  \\\n",
       "0        7.601402           0.0          NaN          NaN            NaN   \n",
       "1        8.160804           0.0     9.903538          2.0          13.25   \n",
       "2        7.719130           0.0    10.714440          4.0            NaN   \n",
       "3        8.160804           0.0    11.429555          5.0            NaN   \n",
       "4        9.210440        2500.0    10.819798          2.0            NaN   \n",
       "\n",
       "     EMI         ...          Source__S160  Source__S161  Source__S162  \\\n",
       "0    NaN         ...                     0             0             0   \n",
       "1  953.0         ...                     0             0             0   \n",
       "2    NaN         ...                     0             0             0   \n",
       "3    NaN         ...                     0             0             0   \n",
       "4    NaN         ...                     0             0             0   \n",
       "\n",
       "   Source_Category__A  Source_Category__B  Source_Category__C  \\\n",
       "0                   0                   0                   0   \n",
       "1                   0                   0                   0   \n",
       "2                   0                   1                   0   \n",
       "3                   0                   1                   0   \n",
       "4                   0                   1                   0   \n",
       "\n",
       "   Source_Category__D  Source_Category__E  Source_Category__F  \\\n",
       "0                   0                   0                   0   \n",
       "1                   0                   0                   0   \n",
       "2                   0                   0                   0   \n",
       "3                   0                   0                   0   \n",
       "4                   0                   0                   0   \n",
       "\n",
       "   Source_Category__G  \n",
       "0                   1  \n",
       "1                   1  \n",
       "2                   0  \n",
       "3                   0  \n",
       "4                   0  \n",
       "\n",
       "[5 rows x 186 columns]"
      ]
     },
     "execution_count": 20,
     "metadata": {},
     "output_type": "execute_result"
    }
   ],
   "source": [
    "train.head()"
   ]
  },
  {
   "cell_type": "code",
   "execution_count": 21,
   "metadata": {},
   "outputs": [
    {
     "name": "stderr",
     "output_type": "stream",
     "text": [
      "/usr/local/lib/python3.6/site-packages/ipykernel_launcher.py:1: SettingWithCopyWarning: \n",
      "A value is trying to be set on a copy of a slice from a DataFrame.\n",
      "Try using .loc[row_indexer,col_indexer] = value instead\n",
      "\n",
      "See the caveats in the documentation: http://pandas.pydata.org/pandas-docs/stable/indexing.html#indexing-view-versus-copy\n",
      "  \"\"\"Entry point for launching an IPython kernel.\n",
      "/usr/local/lib/python3.6/site-packages/ipykernel_launcher.py:2: SettingWithCopyWarning: \n",
      "A value is trying to be set on a copy of a slice from a DataFrame.\n",
      "Try using .loc[row_indexer,col_indexer] = value instead\n",
      "\n",
      "See the caveats in the documentation: http://pandas.pydata.org/pandas-docs/stable/indexing.html#indexing-view-versus-copy\n",
      "  \n"
     ]
    }
   ],
   "source": [
    "test['Monthly_Income'] = np.log1p(test['Monthly_Income'])\n",
    "test['Loan_Amount'] = np.log1p(test['Loan_Amount'])"
   ]
  },
  {
   "cell_type": "code",
   "execution_count": 22,
   "metadata": {
    "collapsed": true
   },
   "outputs": [],
   "source": [
    "\n",
    "predictors = train.select_dtypes(['float64', 'int64', 'uint8']).columns\n"
   ]
  },
  {
   "cell_type": "code",
   "execution_count": 23,
   "metadata": {},
   "outputs": [
    {
     "name": "stdout",
     "output_type": "stream",
     "text": [
      "(69713, 183)\n",
      "(30037, 183)\n"
     ]
    }
   ],
   "source": [
    "print(train[predictors].shape)\n",
    "print(test[predictors].shape)"
   ]
  },
  {
   "cell_type": "markdown",
   "metadata": {},
   "source": [
    "## Training a XGB Model"
   ]
  },
  {
   "cell_type": "code",
   "execution_count": 24,
   "metadata": {
    "scrolled": false
   },
   "outputs": [
    {
     "name": "stdout",
     "output_type": "stream",
     "text": [
      "[0]\ttrain-auc:0.733172+0.0114799\ttest-auc:0.722935+0.0205413\n",
      "[1]\ttrain-auc:0.757739+0.0103098\ttest-auc:0.747901+0.0227776\n",
      "[2]\ttrain-auc:0.781066+0.0188349\ttest-auc:0.770732+0.0224449\n",
      "[3]\ttrain-auc:0.807519+0.00947383\ttest-auc:0.794508+0.0214856\n",
      "[4]\ttrain-auc:0.822546+0.00626603\ttest-auc:0.805605+0.0162831\n",
      "[5]\ttrain-auc:0.830276+0.00612354\ttest-auc:0.808143+0.0135353\n",
      "[6]\ttrain-auc:0.835919+0.00544892\ttest-auc:0.811413+0.0131967\n",
      "[7]\ttrain-auc:0.843023+0.00321126\ttest-auc:0.815492+0.013629\n",
      "[8]\ttrain-auc:0.850653+0.00148531\ttest-auc:0.821318+0.0128983\n",
      "[9]\ttrain-auc:0.856435+0.00293128\ttest-auc:0.823764+0.0145015\n",
      "[10]\ttrain-auc:0.860433+0.00312257\ttest-auc:0.825117+0.0134973\n",
      "[11]\ttrain-auc:0.86448+0.00222351\ttest-auc:0.826888+0.0123509\n",
      "[12]\ttrain-auc:0.867704+0.00116686\ttest-auc:0.82813+0.0130329\n",
      "[13]\ttrain-auc:0.870427+0.00158545\ttest-auc:0.830379+0.0113786\n",
      "[14]\ttrain-auc:0.872689+0.00140632\ttest-auc:0.833035+0.0118745\n",
      "[15]\ttrain-auc:0.874711+0.00156694\ttest-auc:0.836235+0.0104892\n",
      "[16]\ttrain-auc:0.876325+0.00138179\ttest-auc:0.83645+0.0104444\n",
      "[17]\ttrain-auc:0.878498+0.00174068\ttest-auc:0.838707+0.0096462\n",
      "[18]\ttrain-auc:0.879942+0.00162105\ttest-auc:0.839601+0.00878709\n",
      "[19]\ttrain-auc:0.881367+0.00149647\ttest-auc:0.840192+0.00893765\n",
      "[20]\ttrain-auc:0.883036+0.00138669\ttest-auc:0.840773+0.00892746\n",
      "[21]\ttrain-auc:0.884551+0.00128617\ttest-auc:0.841708+0.00904007\n",
      "[22]\ttrain-auc:0.886222+0.0012662\ttest-auc:0.84237+0.00907095\n",
      "[23]\ttrain-auc:0.888182+0.00132717\ttest-auc:0.842999+0.00911911\n",
      "[24]\ttrain-auc:0.890352+0.00144858\ttest-auc:0.84378+0.00940229\n",
      "[25]\ttrain-auc:0.891579+0.00127935\ttest-auc:0.843885+0.00880047\n",
      "[26]\ttrain-auc:0.893192+0.00145818\ttest-auc:0.844276+0.00917357\n",
      "[27]\ttrain-auc:0.895251+0.00145128\ttest-auc:0.845068+0.00946959\n",
      "[28]\ttrain-auc:0.896346+0.0014512\ttest-auc:0.844743+0.00952842\n",
      "[29]\ttrain-auc:0.898791+0.00127428\ttest-auc:0.845029+0.0101545\n",
      "[30]\ttrain-auc:0.90034+0.00108491\ttest-auc:0.845169+0.00971111\n",
      "[31]\ttrain-auc:0.901771+0.00135896\ttest-auc:0.844559+0.00915769\n",
      "[32]\ttrain-auc:0.903301+0.00108987\ttest-auc:0.844702+0.00937767\n",
      "[33]\ttrain-auc:0.904598+0.000917384\ttest-auc:0.844772+0.0088232\n",
      "[34]\ttrain-auc:0.905851+0.00101218\ttest-auc:0.844662+0.00876929\n",
      "[35]\ttrain-auc:0.907234+0.00107068\ttest-auc:0.84414+0.0083615\n",
      "[36]\ttrain-auc:0.908473+0.00134805\ttest-auc:0.843864+0.00791805\n",
      "[37]\ttrain-auc:0.909762+0.00145633\ttest-auc:0.844509+0.00759191\n",
      "[38]\ttrain-auc:0.910975+0.00164723\ttest-auc:0.844643+0.00789995\n",
      "[39]\ttrain-auc:0.91215+0.00138982\ttest-auc:0.845176+0.00769141\n",
      "[40]\ttrain-auc:0.913154+0.00156159\ttest-auc:0.845313+0.00816867\n",
      "[41]\ttrain-auc:0.914447+0.00131714\ttest-auc:0.845366+0.00817343\n",
      "[42]\ttrain-auc:0.915461+0.00148327\ttest-auc:0.845541+0.00777999\n",
      "[43]\ttrain-auc:0.916661+0.00131904\ttest-auc:0.845534+0.00823165\n",
      "[44]\ttrain-auc:0.917712+0.00125496\ttest-auc:0.845571+0.00777997\n",
      "[45]\ttrain-auc:0.91874+0.00111837\ttest-auc:0.845256+0.00784667\n",
      "[46]\ttrain-auc:0.919856+0.00126769\ttest-auc:0.845106+0.00732159\n",
      "[47]\ttrain-auc:0.921171+0.000972115\ttest-auc:0.845032+0.00713949\n",
      "[48]\ttrain-auc:0.922257+0.00117922\ttest-auc:0.844308+0.00757857\n",
      "[49]\ttrain-auc:0.92324+0.0012641\ttest-auc:0.844776+0.00703322\n",
      "[50]\ttrain-auc:0.92417+0.00126218\ttest-auc:0.844655+0.00687306\n",
      "[51]\ttrain-auc:0.925048+0.00141491\ttest-auc:0.844038+0.00715124\n",
      "[52]\ttrain-auc:0.925847+0.00176056\ttest-auc:0.8441+0.00655582\n",
      "[53]\ttrain-auc:0.926712+0.00157491\ttest-auc:0.843956+0.0067924\n",
      "[54]\ttrain-auc:0.92757+0.00157875\ttest-auc:0.84349+0.00731416\n",
      "[55]\ttrain-auc:0.928385+0.00155954\ttest-auc:0.84318+0.00773413\n",
      "[56]\ttrain-auc:0.929382+0.00162892\ttest-auc:0.842386+0.00820759\n",
      "[57]\ttrain-auc:0.930119+0.00154986\ttest-auc:0.842729+0.0081745\n",
      "[58]\ttrain-auc:0.930892+0.00169261\ttest-auc:0.84299+0.00756424\n",
      "[59]\ttrain-auc:0.931771+0.00155355\ttest-auc:0.843052+0.00808162\n",
      "[60]\ttrain-auc:0.932554+0.00170615\ttest-auc:0.842767+0.00775542\n",
      "[61]\ttrain-auc:0.933467+0.00175485\ttest-auc:0.842501+0.0077029\n",
      "[62]\ttrain-auc:0.934428+0.00145616\ttest-auc:0.84278+0.00717566\n",
      "[63]\ttrain-auc:0.93499+0.00151884\ttest-auc:0.84185+0.0075771\n"
     ]
    }
   ],
   "source": [
    "\n",
    "\n",
    "xgb_params = {\n",
    "    'eta': 0.3,\n",
    "    'max_depth': 5,\n",
    "    'subsample': 0.6,\n",
    "    'colsample_bytree': 1,\n",
    "    'lambda': 3,\n",
    "    'objective': 'binary:logistic',\n",
    "    'eval_metric': 'auc',\n",
    "    'silent': 0\n",
    "}\n",
    "\n",
    "dtrain = xgb.DMatrix(data=train[predictors], label= y_train)\n",
    "\n",
    "\n",
    "num_rounds = 10000\n",
    "\n",
    "model_cv = xgb.cv(xgb_params, dtrain, num_rounds, nfold=10, early_stopping_rounds=20, verbose_eval=1)\n"
   ]
  },
  {
   "cell_type": "code",
   "execution_count": 25,
   "metadata": {},
   "outputs": [],
   "source": [
    "model = xgb.train(xgb_params, dtrain, num_boost_round = 44)"
   ]
  },
  {
   "cell_type": "code",
   "execution_count": 26,
   "metadata": {},
   "outputs": [
    {
     "data": {
      "text/plain": [
       "<matplotlib.axes._subplots.AxesSubplot at 0x10ec26630>"
      ]
     },
     "execution_count": 26,
     "metadata": {},
     "output_type": "execute_result"
    },
    {
     "data": {
      "image/png": "[encoded data removed]",
      "text/plain": [
       "<matplotlib.figure.Figure at 0x10ec17278>"
      ]
     },
     "metadata": {},
     "output_type": "display_data"
    }
   ],
   "source": [
    "fig, ax = plt.subplots(1, 1, figsize=(16, 16))\n",
    "xgb.plot_importance(model, height=0.5, ax=ax)"
   ]
  },
  {
   "cell_type": "markdown",
   "metadata": {},
   "source": [
    "## Generating XGB Predictions"
   ]
  },
  {
   "cell_type": "code",
   "execution_count": 27,
   "metadata": {
    "collapsed": true
   },
   "outputs": [],
   "source": [
    "dtest = xgb.DMatrix(data=test[predictors])\n",
    "\n",
    "preds = model.predict(dtest)\n",
    "\n",
    "df_sub = pd.DataFrame({'ID': test.ID, 'Approved': preds})\n",
    "\n",
    "df_sub.to_csv('sub_xgb.csv', index=False)\n"
   ]
  },
  {
   "cell_type": "markdown",
   "metadata": {
    "collapsed": true
   },
   "source": [
    "## Training a Logistic Regression Model"
   ]
  },
  {
   "cell_type": "code",
   "execution_count": 29,
   "metadata": {},
   "outputs": [
    {
     "data": {
      "text/plain": [
       "LogisticRegression(C=1.0, class_weight=None, dual=False, fit_intercept=True,\n",
       "          intercept_scaling=1, max_iter=100, multi_class='ovr', n_jobs=1,\n",
       "          penalty='l2', random_state=None, solver='liblinear', tol=0.0001,\n",
       "          verbose=0, warm_start=False)"
      ]
     },
     "execution_count": 29,
     "metadata": {},
     "output_type": "execute_result"
    }
   ],
   "source": [
    "from sklearn import linear_model\n",
    "\n",
    "lm = linear_model.LogisticRegression()\n",
    "\n",
    "lm.fit(train.loc[:,predictors].fillna(0), y_train)\n",
    "\n"
   ]
  },
  {
   "cell_type": "markdown",
   "metadata": {},
   "source": [
    "## Generating LR Predictions"
   ]
  },
  {
   "cell_type": "code",
   "execution_count": 30,
   "metadata": {},
   "outputs": [],
   "source": [
    "pred_lm = lm.predict(test.loc[:,predictors].fillna(0))\n"
   ]
  },
  {
   "cell_type": "code",
   "execution_count": 31,
   "metadata": {
    "collapsed": true
   },
   "outputs": [],
   "source": [
    "\n",
    "df_sub = pd.DataFrame({'ID': test.ID, 'Approved': pred_lm})\n",
    "\n",
    "df_sub.to_csv('sub_lm.csv', index=False)\n"
   ]
  },
  {
   "cell_type": "markdown",
   "metadata": {},
   "source": [
    "## Merging both"
   ]
  },
  {
   "cell_type": "code",
   "execution_count": 32,
   "metadata": {
    "collapsed": true
   },
   "outputs": [],
   "source": [
    "xgb = pd.read_csv('sub_xgb.csv')\n",
    "\n",
    "lm = pd.read_csv('sub_lm.csv')"
   ]
  },
  {
   "cell_type": "code",
   "execution_count": 35,
   "metadata": {},
   "outputs": [
    {
     "name": "stderr",
     "output_type": "stream",
     "text": [
      "/usr/local/lib/python3.6/site-packages/ipykernel_launcher.py:4: SettingWithCopyWarning: \n",
      "A value is trying to be set on a copy of a slice from a DataFrame\n",
      "\n",
      "See the caveats in the documentation: http://pandas.pydata.org/pandas-docs/stable/indexing.html#indexing-view-versus-copy\n",
      "  after removing the cwd from sys.path.\n",
      "/usr/local/lib/python3.6/site-packages/ipykernel_launcher.py:5: SettingWithCopyWarning: \n",
      "A value is trying to be set on a copy of a slice from a DataFrame\n",
      "\n",
      "See the caveats in the documentation: http://pandas.pydata.org/pandas-docs/stable/indexing.html#indexing-view-versus-copy\n",
      "  \"\"\"\n"
     ]
    }
   ],
   "source": [
    "df = xgb\n",
    "\n",
    "df['Approved'] = xgb['Approved'] * 0.99 + lm['Approved']*0.01\n",
    "df.Approved[df['Approved']>1] = 1\n",
    "df.Approved[df['Approved']<0] = 0"
   ]
  },
  {
   "cell_type": "code",
   "execution_count": 36,
   "metadata": {},
   "outputs": [],
   "source": [
    "df.to_csv(\"sub_xgb_lm.csv\",index = False)"
   ]
  }
 ],
 "metadata": {
  "kernelspec": {
   "display_name": "Python 3",
   "language": "python",
   "name": "python3"
  },
  "language_info": {
   "codemirror_mode": {
    "name": "ipython",
    "version": 3
   },
   "file_extension": ".py",
   "mimetype": "text/x-python",
   "name": "python",
   "nbconvert_exporter": "python",
   "pygments_lexer": "ipython3",
   "version": "3.6.2"
  }
 },
 "nbformat": 4,
 "nbformat_minor": 2
}
